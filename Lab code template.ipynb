{
 "cells": [
  {
   "cell_type": "code",
   "execution_count": 1,
   "id": "d1c6b5c6-594d-4408-960e-ce04caf98b18",
   "metadata": {},
   "outputs": [],
   "source": [
    "import pandas as pd\n",
    "import numpy as np\n",
    "import matplotlib.pyplot as plt\n",
    "from scipy import stats"
   ]
  },
  {
   "cell_type": "code",
   "execution_count": 2,
   "id": "ba906e29-1891-490a-84ea-bb40066e6ce5",
   "metadata": {},
   "outputs": [
    {
     "data": {
      "text/html": [
       "<div>\n",
       "<style scoped>\n",
       "    .dataframe tbody tr th:only-of-type {\n",
       "        vertical-align: middle;\n",
       "    }\n",
       "\n",
       "    .dataframe tbody tr th {\n",
       "        vertical-align: top;\n",
       "    }\n",
       "\n",
       "    .dataframe thead th {\n",
       "        text-align: right;\n",
       "    }\n",
       "</style>\n",
       "<table border=\"1\" class=\"dataframe\">\n",
       "  <thead>\n",
       "    <tr style=\"text-align: right;\">\n",
       "      <th></th>\n",
       "      <th>T(K)</th>\n",
       "      <th>R</th>\n",
       "      <th>sigma_R</th>\n",
       "      <th>Q</th>\n",
       "      <th>sigma_Q</th>\n",
       "    </tr>\n",
       "  </thead>\n",
       "  <tbody>\n",
       "    <tr>\n",
       "      <th>0</th>\n",
       "      <td>10</td>\n",
       "      <td>40</td>\n",
       "      <td>5</td>\n",
       "      <td>1.0</td>\n",
       "      <td>0.1</td>\n",
       "    </tr>\n",
       "    <tr>\n",
       "      <th>1</th>\n",
       "      <td>20</td>\n",
       "      <td>78</td>\n",
       "      <td>2</td>\n",
       "      <td>1.1</td>\n",
       "      <td>0.2</td>\n",
       "    </tr>\n",
       "    <tr>\n",
       "      <th>2</th>\n",
       "      <td>30</td>\n",
       "      <td>115</td>\n",
       "      <td>3</td>\n",
       "      <td>0.9</td>\n",
       "      <td>0.3</td>\n",
       "    </tr>\n",
       "    <tr>\n",
       "      <th>3</th>\n",
       "      <td>40</td>\n",
       "      <td>170</td>\n",
       "      <td>1</td>\n",
       "      <td>0.8</td>\n",
       "      <td>0.1</td>\n",
       "    </tr>\n",
       "    <tr>\n",
       "      <th>4</th>\n",
       "      <td>50</td>\n",
       "      <td>209</td>\n",
       "      <td>6</td>\n",
       "      <td>1.3</td>\n",
       "      <td>0.2</td>\n",
       "    </tr>\n",
       "  </tbody>\n",
       "</table>\n",
       "</div>"
      ],
      "text/plain": [
       "   T(K)    R  sigma_R    Q  sigma_Q\n",
       "0    10   40        5  1.0      0.1\n",
       "1    20   78        2  1.1      0.2\n",
       "2    30  115        3  0.9      0.3\n",
       "3    40  170        1  0.8      0.1\n",
       "4    50  209        6  1.3      0.2"
      ]
     },
     "execution_count": 2,
     "metadata": {},
     "output_type": "execute_result"
    }
   ],
   "source": [
    "df = pd.read_excel(\"Lab0data.xlsx\")\n",
    "#小心 does not print all rows!!!\n",
    "df.head()"
   ]
  },
  {
   "cell_type": "code",
   "execution_count": 3,
   "id": "64dd308f-f950-46ec-bb55-5eddccb405be",
   "metadata": {},
   "outputs": [],
   "source": [
    "#(number of columns, number of rows)\n",
    "array_shape = (len(df.columns), df.index.stop)\n",
    "data = np.zeros(array_shape)"
   ]
  },
  {
   "cell_type": "code",
   "execution_count": 4,
   "id": "e371d161-6f5b-4b72-bb30-c6d97cd3ef5c",
   "metadata": {},
   "outputs": [],
   "source": [
    "col_iterator = zip(df.columns, range(0, len(df.columns), 1))\n",
    "\n",
    "for col_name, col_num in col_iterator:\n",
    "    data[col_num] = df[col_name].to_numpy()"
   ]
  },
  {
   "cell_type": "code",
   "execution_count": 5,
   "id": "da6b77af-51ff-4f8c-9921-c5fb3e45adaf",
   "metadata": {},
   "outputs": [],
   "source": [
    "#小心not deep copy\n",
    "T = data[0]\n",
    "R = data[1]\n",
    "sigma_R = data[2]\n",
    "Q = data[3]\n",
    "sigma_Q = data[4]"
   ]
  },
  {
   "cell_type": "code",
   "execution_count": 6,
   "id": "4d212ab9-ad0e-4f49-92db-b2d633879e18",
   "metadata": {},
   "outputs": [],
   "source": [
    "RQ = R*Q\n",
    "\n",
    "rel_err_R = sigma_R/R\n",
    "rel_err_Q = sigma_Q/Q\n",
    "rel_err_RQ = (rel_err_R**2 + rel_err_Q**2)**0.5\n",
    "\n",
    "sigma_RQ = rel_err_RQ*RQ\n"
   ]
  },
  {
   "cell_type": "code",
   "execution_count": 40,
   "id": "512a9d7a-ec2c-4c56-b291-440f71b8199c",
   "metadata": {},
   "outputs": [
    {
     "data": {
      "text/plain": [
       "Text(0, 0.5, 'R Q')"
      ]
     },
     "execution_count": 40,
     "metadata": {},
     "output_type": "execute_result"
    },
    {
     "data": {
      "image/png": "[encoded data removed]",
      "text/plain": [
       "<Figure size 640x480 with 1 Axes>"
      ]
     },
     "metadata": {},
     "output_type": "display_data"
    }
   ],
   "source": [
    "fig, (ax1) = plt.subplots(1,1)\n",
    "\n",
    "fig.suptitle('graph of...')\n",
    "\n",
    "ax1.errorbar(T, RQ, yerr=sigma_RQ, fmt='o')\n",
    "\n",
    "line = stats.linregress(T, RQ)\n",
    "\n",
    "ax1.plot(T, line.intercept + line.slope*T, 'r', label=r'fitted line: {:1.2f} T + {:1.2f}'.format(float(line.intercept), float(line.slope)))\n",
    "ax1.legend(loc='upper left', frameon=False)\n",
    "ax1.set_xlabel('T')\n",
    "ax1.set_ylabel('R Q')\n",
    "\n"
   ]
  },
  {
   "cell_type": "markdown",
   "id": "80a6106b-1bb2-4e3d-81b6-08acde2e2f17",
   "metadata": {},
   "source": [
    "# Refereces\n",
    "\n",
    "### Specificities used in this example\n",
    "Fomatting floating point number  \n",
    "https://stackoverflow.com/questions/8885663/how-to-format-a-floating-number-to-fixed-width-in-python\n",
    "\n",
    "error bar example  \n",
    "https://matplotlib.org/stable/gallery/statistics/errorbar.html#sphx-glr-gallery-statistics-errorbar-py\n",
    "\n",
    "zip() example  \n",
    "https://stackoverflow.com/questions/51747961/how-to-use-2-index-variable-in-a-single-for-loop-in-python\n",
    "\n",
    "pandas: what you must do to import excel  \n",
    "https://datatofish.com/read_excel/\n",
    "\n",
    "using excel sheets  \n",
    "https://saturncloud.io/blog/pandas-readexcel-with-multiple-sheets-and-specific-columns/\n",
    "\n",
    "### Other specificities used in other examples\n",
    "how to fill array with single value  \n",
    "https://stackoverflow.com/questions/1704823/create-numpy-matrix-filled-with-nans\n",
    "\n",
    "### Useful background\n",
    "\n",
    "pandas quick start  \n",
    "https://pandas.pydata.org/docs/user_guide/10min.html\n",
    "\n",
    "CSV file using notepad example  \n",
    "https://www.businessinsider.com/guides/tech/what-is-csv-file\n",
    "\n",
    "effective matplotlib article  \n",
    "https://pbpython.com/effective-matplotlib.html\n",
    "\n",
    "numpy load file  \n",
    "https://numpy.org/doc/stable/user/how-to-io.html\n",
    "\n",
    "\n"
   ]
  },
  {
   "cell_type": "code",
   "execution_count": null,
   "id": "448b757a-5db2-4535-9815-3cdc4f6a5746",
   "metadata": {},
   "outputs": [],
   "source": []
  }
 ],
 "metadata": {
  "kernelspec": {
   "display_name": "Python 3 (ipykernel)",
   "language": "python",
   "name": "python3"
  },
  "language_info": {
   "codemirror_mode": {
    "name": "ipython",
    "version": 3
   },
   "file_extension": ".py",
   "mimetype": "text/x-python",
   "name": "python",
   "nbconvert_exporter": "python",
   "pygments_lexer": "ipython3",
   "version": "3.12.0"
  }
 },
 "nbformat": 4,
 "nbformat_minor": 5
}
