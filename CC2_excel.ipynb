{
 "cells": [
  {
   "cell_type": "code",
   "execution_count": 1,
   "id": "17f66c1d-1bcc-4f57-9c55-bb74a3a693a0",
   "metadata": {},
   "outputs": [],
   "source": [
    "import pandas as pd\n",
    "import numpy as np\n",
    "import matplotlib.pyplot as plt\n",
    "from scipy import stats"
   ]
  },
  {
   "cell_type": "code",
   "execution_count": 2,
   "id": "ddce7969-116b-481b-88a1-324b57ce1a1e",
   "metadata": {},
   "outputs": [
    {
     "data": {
      "text/html": [
       "<div>\n",
       "<style scoped>\n",
       "    .dataframe tbody tr th:only-of-type {\n",
       "        vertical-align: middle;\n",
       "    }\n",
       "\n",
       "    .dataframe tbody tr th {\n",
       "        vertical-align: top;\n",
       "    }\n",
       "\n",
       "    .dataframe thead th {\n",
       "        text-align: right;\n",
       "    }\n",
       "</style>\n",
       "<table border=\"1\" class=\"dataframe\">\n",
       "  <thead>\n",
       "    <tr style=\"text-align: right;\">\n",
       "      <th></th>\n",
       "      <th>financial_year</th>\n",
       "      <th>actual_revised_estimated</th>\n",
       "      <th>sector</th>\n",
       "      <th>ministry</th>\n",
       "      <th>type</th>\n",
       "      <th>amount</th>\n",
       "      <th>percent_of_gdp</th>\n",
       "    </tr>\n",
       "  </thead>\n",
       "  <tbody>\n",
       "    <tr>\n",
       "      <th>0</th>\n",
       "      <td>1997</td>\n",
       "      <td>Actual</td>\n",
       "      <td>Social Development</td>\n",
       "      <td>Education</td>\n",
       "      <td>Operating</td>\n",
       "      <td>3348</td>\n",
       "      <td>0.022</td>\n",
       "    </tr>\n",
       "    <tr>\n",
       "      <th>1</th>\n",
       "      <td>1998</td>\n",
       "      <td>Actual</td>\n",
       "      <td>Social Development</td>\n",
       "      <td>Education</td>\n",
       "      <td>Operating</td>\n",
       "      <td>3167</td>\n",
       "      <td>0.022</td>\n",
       "    </tr>\n",
       "    <tr>\n",
       "      <th>2</th>\n",
       "      <td>1999</td>\n",
       "      <td>Actual</td>\n",
       "      <td>Social Development</td>\n",
       "      <td>Education</td>\n",
       "      <td>Operating</td>\n",
       "      <td>3257</td>\n",
       "      <td>0.022</td>\n",
       "    </tr>\n",
       "    <tr>\n",
       "      <th>3</th>\n",
       "      <td>2000</td>\n",
       "      <td>Actual</td>\n",
       "      <td>Social Development</td>\n",
       "      <td>Education</td>\n",
       "      <td>Operating</td>\n",
       "      <td>4277</td>\n",
       "      <td>0.025</td>\n",
       "    </tr>\n",
       "    <tr>\n",
       "      <th>4</th>\n",
       "      <td>2001</td>\n",
       "      <td>Actual</td>\n",
       "      <td>Social Development</td>\n",
       "      <td>Education</td>\n",
       "      <td>Operating</td>\n",
       "      <td>4767</td>\n",
       "      <td>0.030</td>\n",
       "    </tr>\n",
       "  </tbody>\n",
       "</table>\n",
       "</div>"
      ],
      "text/plain": [
       "   financial_year actual_revised_estimated              sector   ministry  \\\n",
       "0            1997                   Actual  Social Development  Education   \n",
       "1            1998                   Actual  Social Development  Education   \n",
       "2            1999                   Actual  Social Development  Education   \n",
       "3            2000                   Actual  Social Development  Education   \n",
       "4            2001                   Actual  Social Development  Education   \n",
       "\n",
       "        type  amount  percent_of_gdp  \n",
       "0  Operating    3348           0.022  \n",
       "1  Operating    3167           0.022  \n",
       "2  Operating    3257           0.022  \n",
       "3  Operating    4277           0.025  \n",
       "4  Operating    4767           0.030  "
      ]
     },
     "execution_count": 2,
     "metadata": {},
     "output_type": "execute_result"
    }
   ],
   "source": [
    "df = pd.read_excel(\"Expenditure_OperatingRevenue_students.xlsx\")\n",
    "#小心 does not print all rows!!!\n",
    "df.head()"
   ]
  },
  {
   "cell_type": "code",
   "execution_count": 3,
   "id": "c33dbdb5-571d-47b9-ba5a-3b1006dd9ecb",
   "metadata": {},
   "outputs": [],
   "source": [
    "arr_ministries = np.unique(df[\"ministry\"].to_numpy())"
   ]
  },
  {
   "cell_type": "code",
   "execution_count": 4,
   "id": "1acbbae2-9147-4216-9592-18c8cd0e0166",
   "metadata": {},
   "outputs": [],
   "source": [
    "expenditure = []\n",
    "for ministry in arr_ministries:\n",
    "    expenditure.append(np.sum(df[df[\"ministry\"] == ministry]['amount'].to_numpy()))"
   ]
  },
  {
   "cell_type": "code",
   "execution_count": 5,
   "id": "27dac135-b35a-49bf-b00c-49d63eb757f5",
   "metadata": {},
   "outputs": [],
   "source": [
    "arr_expenditure = np.array(expenditure)"
   ]
  },
  {
   "cell_type": "code",
   "execution_count": 6,
   "id": "cfe274ee-6d97-4190-82d5-1855ed1572f1",
   "metadata": {},
   "outputs": [
    {
     "name": "stderr",
     "output_type": "stream",
     "text": [
      "C:\\Users\\uchen_avctbcy\\AppData\\Local\\Temp\\ipykernel_4720\\3273098511.py:4: UserWarning: set_ticklabels() should only be used with a fixed number of ticks, i.e. after set_ticks() or using a FixedLocator.\n",
      "  ax.set_xticklabels(arr_ministries, rotation=70, ha='right')\n"
     ]
    },
    {
     "data": {
      "text/plain": [
       "[Text(0, 0, 'Communications and Information'),\n",
       " Text(1, 0, 'Culture, Community and Youth'),\n",
       " Text(2, 0, 'Defence'),\n",
       " Text(3, 0, 'Education'),\n",
       " Text(4, 0, 'Finance'),\n",
       " Text(5, 0, 'Foreign Affairs'),\n",
       " Text(6, 0, 'Health'),\n",
       " Text(7, 0, 'Home Affairs'),\n",
       " Text(8, 0, 'Info-Communications and Media Development'),\n",
       " Text(9, 0, 'Law'),\n",
       " Text(10, 0, 'Manpower'),\n",
       " Text(11, 0, 'National Development'),\n",
       " Text(12, 0, 'Organs of State'),\n",
       " Text(13, 0, \"Prime Minister's Office\"),\n",
       " Text(14, 0, 'Social and Family Development'),\n",
       " Text(15, 0, 'Sustainability and the Environment'),\n",
       " Text(16, 0, 'Trade and Industry'),\n",
       " Text(17, 0, 'Transport')]"
      ]
     },
     "execution_count": 6,
     "metadata": {},
     "output_type": "execute_result"
    },
    {
     "data": {
      "image/png": "[encoded data removed]",
      "text/plain": [
       "<Figure size 640x480 with 1 Axes>"
      ]
     },
     "metadata": {},
     "output_type": "display_data"
    }
   ],
   "source": [
    "fig, ax = plt.subplots()\n",
    "ax.bar(arr_ministries, arr_expenditure)\n",
    "\n",
    "ax.set_xticklabels(arr_ministries, rotation=70, ha='right')"
   ]
  },
  {
   "cell_type": "code",
   "execution_count": 8,
   "id": "d023993b-6702-4194-931e-65ba9618c220",
   "metadata": {},
   "outputs": [
    {
     "data": {
      "text/plain": [
       "[<matplotlib.lines.Line2D at 0x2ca87d55670>]"
      ]
     },
     "execution_count": 8,
     "metadata": {},
     "output_type": "execute_result"
    },
    {
     "data": {
      "image/png": "[encoded data removed]",
      "text/plain": [
       "<Figure size 640x480 with 1 Axes>"
      ]
     },
     "metadata": {},
     "output_type": "display_data"
    }
   ],
   "source": [
    "fig, ax = plt.subplots()\n",
    "ax.plot(\\\n",
    "df[(df['ministry']=='Transport') & (df['type']=='Operating')]['financial_year'],\\\n",
    "df[(df['ministry']=='Transport') & (df['type']=='Operating')]['amount'])\n",
    "ax.plot(\\\n",
    "df[ (df['ministry']=='Transport') & (df['type']=='Development') ]['financial_year'],\\\n",
    "df[ (df['ministry']=='Transport') & (df['type']=='Development') ]['amount'])"
   ]
  },
  {
   "cell_type": "markdown",
   "id": "a5bbb4b0-e147-45bb-a687-e111fedb511a",
   "metadata": {},
   "source": [
    "### Which ministry incurred the highest annual expenditure? When did this occur? How much was the expenditure?"
   ]
  },
  {
   "cell_type": "code",
   "execution_count": 63,
   "id": "58243b8d-3cad-4534-9e5e-75b8cfafcb09",
   "metadata": {},
   "outputs": [],
   "source": [
    "annual_exp = df[df['type']=='Operating']['amount'].to_numpy() + df[df['type']=='Development']['amount'].to_numpy()\n"
   ]
  },
  {
   "cell_type": "code",
   "execution_count": 64,
   "id": "decd3c16-42fc-4c38-bcb3-cd84054c793a",
   "metadata": {},
   "outputs": [
    {
     "name": "stdout",
     "output_type": "stream",
     "text": [
      "max value =  18845\n",
      "index = 74\n"
     ]
    }
   ],
   "source": [
    "print('max value = ',np.max(annual_exp))\n",
    "print('index =', np.argmax(annual_exp))"
   ]
  },
  {
   "cell_type": "code",
   "execution_count": 65,
   "id": "161e9540-bfcb-4c3a-9746-c88e62584e3a",
   "metadata": {},
   "outputs": [
    {
     "data": {
      "text/plain": [
       "financial_year                            2021\n",
       "actual_revised_estimated             Estimated\n",
       "sector                      Social Development\n",
       "ministry                                Health\n",
       "type                                 Operating\n",
       "amount                                   17355\n",
       "percent_of_gdp                           0.034\n",
       "Name: 124, dtype: object"
      ]
     },
     "execution_count": 65,
     "metadata": {},
     "output_type": "execute_result"
    }
   ],
   "source": [
    "df[df['type']=='Operating'].iloc[74]"
   ]
  },
  {
   "cell_type": "markdown",
   "id": "2b69227a-00fd-4bd1-941b-0360cb5a1947",
   "metadata": {},
   "source": [
    "### Which sector incurred the highest annual expenditure? When did this occur? How much was the expenditure?"
   ]
  },
  {
   "cell_type": "code",
   "execution_count": 26,
   "id": "ad89c9e4-2c6c-46ad-b726-17dbbe7b18af",
   "metadata": {},
   "outputs": [
    {
     "name": "stdout",
     "output_type": "stream",
     "text": [
      "Sector: Economic Development\n",
      "Maximum Annual: 12412.0\n",
      "Year 2021\n",
      "\n",
      "Sector: Government Administration\n",
      "Maximum Annual: 3769.0\n",
      "Year 2021\n",
      "\n",
      "Sector: Security and External Relations\n",
      "Maximum Annual: 21768.0\n",
      "Year 2021\n",
      "\n",
      "Sector: Social Development\n",
      "Maximum Annual: 44517.0\n",
      "Year 2021\n",
      "\n"
     ]
    }
   ],
   "source": [
    "arr_sectors = np.unique(df[\"sector\"].to_numpy())\n",
    "\n",
    "for sector in arr_sectors:\n",
    "    arr_ministries = np.unique(df[df[\"sector\"]==sector]['ministry'].to_numpy())\n",
    "    df_sector = df[df[\"sector\"]==sector]\n",
    "    \n",
    "    annual = np.zeros(df_sector[(df_sector[\"ministry\"]==arr_ministries[0])&(df_sector['type']=='Operating')]['amount'].to_numpy().size)\n",
    "    for ministry in arr_ministries:\n",
    "        annual += df_sector[(df_sector['ministry']==ministry)&(df_sector['type']=='Operating')]['amount'].to_numpy()\n",
    "    print('Sector:',sector)\n",
    "    print('Maximum Annual:', np.max(annual))\n",
    "    print('Year', np.argmax(annual) + 1997)\n",
    "    print()"
   ]
  },
  {
   "cell_type": "markdown",
   "id": "da461463-5246-4771-87d1-d2628b40742d",
   "metadata": {},
   "source": [
    "# References and Quick Tutorials"
   ]
  },
  {
   "cell_type": "markdown",
   "id": "04685017-e5ce-4cbb-8e1e-8a6cc65a8792",
   "metadata": {},
   "source": [
    "https://www.pythoncharts.com/matplotlib/rotating-axis-labels/  \n",
    "https://pandas.pydata.org/docs/user_guide/indexing.html"
   ]
  },
  {
   "cell_type": "markdown",
   "id": "6873c6a6-3473-469a-8136-491f67dd4fc2",
   "metadata": {},
   "source": [
    "### Using index\n",
    "Notice the reindexing after filtering! Index does not match original\n"
   ]
  },
  {
   "cell_type": "code",
   "execution_count": 27,
   "id": "ca9cf22f-10e2-4ac9-9284-8cd708cb0f92",
   "metadata": {},
   "outputs": [
    {
     "data": {
      "text/html": [
       "<div>\n",
       "<style scoped>\n",
       "    .dataframe tbody tr th:only-of-type {\n",
       "        vertical-align: middle;\n",
       "    }\n",
       "\n",
       "    .dataframe tbody tr th {\n",
       "        vertical-align: top;\n",
       "    }\n",
       "\n",
       "    .dataframe thead th {\n",
       "        text-align: right;\n",
       "    }\n",
       "</style>\n",
       "<table border=\"1\" class=\"dataframe\">\n",
       "  <thead>\n",
       "    <tr style=\"text-align: right;\">\n",
       "      <th></th>\n",
       "      <th>financial_year</th>\n",
       "      <th>actual_revised_estimated</th>\n",
       "      <th>sector</th>\n",
       "      <th>ministry</th>\n",
       "      <th>type</th>\n",
       "      <th>amount</th>\n",
       "      <th>percent_of_gdp</th>\n",
       "    </tr>\n",
       "  </thead>\n",
       "  <tbody>\n",
       "    <tr>\n",
       "      <th>0</th>\n",
       "      <td>1997</td>\n",
       "      <td>Actual</td>\n",
       "      <td>Social Development</td>\n",
       "      <td>Education</td>\n",
       "      <td>Operating</td>\n",
       "      <td>3348</td>\n",
       "      <td>0.022</td>\n",
       "    </tr>\n",
       "    <tr>\n",
       "      <th>1</th>\n",
       "      <td>1998</td>\n",
       "      <td>Actual</td>\n",
       "      <td>Social Development</td>\n",
       "      <td>Education</td>\n",
       "      <td>Operating</td>\n",
       "      <td>3167</td>\n",
       "      <td>0.022</td>\n",
       "    </tr>\n",
       "    <tr>\n",
       "      <th>2</th>\n",
       "      <td>1999</td>\n",
       "      <td>Actual</td>\n",
       "      <td>Social Development</td>\n",
       "      <td>Education</td>\n",
       "      <td>Operating</td>\n",
       "      <td>3257</td>\n",
       "      <td>0.022</td>\n",
       "    </tr>\n",
       "    <tr>\n",
       "      <th>3</th>\n",
       "      <td>2000</td>\n",
       "      <td>Actual</td>\n",
       "      <td>Social Development</td>\n",
       "      <td>Education</td>\n",
       "      <td>Operating</td>\n",
       "      <td>4277</td>\n",
       "      <td>0.025</td>\n",
       "    </tr>\n",
       "    <tr>\n",
       "      <th>4</th>\n",
       "      <td>2001</td>\n",
       "      <td>Actual</td>\n",
       "      <td>Social Development</td>\n",
       "      <td>Education</td>\n",
       "      <td>Operating</td>\n",
       "      <td>4767</td>\n",
       "      <td>0.030</td>\n",
       "    </tr>\n",
       "    <tr>\n",
       "      <th>...</th>\n",
       "      <td>...</td>\n",
       "      <td>...</td>\n",
       "      <td>...</td>\n",
       "      <td>...</td>\n",
       "      <td>...</td>\n",
       "      <td>...</td>\n",
       "      <td>...</td>\n",
       "    </tr>\n",
       "    <tr>\n",
       "      <th>920</th>\n",
       "      <td>2017</td>\n",
       "      <td>Actual</td>\n",
       "      <td>Government Administration</td>\n",
       "      <td>Prime Minister's Office</td>\n",
       "      <td>Operating</td>\n",
       "      <td>653</td>\n",
       "      <td>0.001</td>\n",
       "    </tr>\n",
       "    <tr>\n",
       "      <th>921</th>\n",
       "      <td>2018</td>\n",
       "      <td>Actual</td>\n",
       "      <td>Government Administration</td>\n",
       "      <td>Prime Minister's Office</td>\n",
       "      <td>Operating</td>\n",
       "      <td>670</td>\n",
       "      <td>0.001</td>\n",
       "    </tr>\n",
       "    <tr>\n",
       "      <th>922</th>\n",
       "      <td>2019</td>\n",
       "      <td>Actual</td>\n",
       "      <td>Government Administration</td>\n",
       "      <td>Prime Minister's Office</td>\n",
       "      <td>Operating</td>\n",
       "      <td>746</td>\n",
       "      <td>0.001</td>\n",
       "    </tr>\n",
       "    <tr>\n",
       "      <th>923</th>\n",
       "      <td>2020</td>\n",
       "      <td>Revised</td>\n",
       "      <td>Government Administration</td>\n",
       "      <td>Prime Minister's Office</td>\n",
       "      <td>Operating</td>\n",
       "      <td>798</td>\n",
       "      <td>0.002</td>\n",
       "    </tr>\n",
       "    <tr>\n",
       "      <th>924</th>\n",
       "      <td>2021</td>\n",
       "      <td>Estimated</td>\n",
       "      <td>Government Administration</td>\n",
       "      <td>Prime Minister's Office</td>\n",
       "      <td>Operating</td>\n",
       "      <td>973</td>\n",
       "      <td>0.002</td>\n",
       "    </tr>\n",
       "  </tbody>\n",
       "</table>\n",
       "<p>475 rows × 7 columns</p>\n",
       "</div>"
      ],
      "text/plain": [
       "     financial_year actual_revised_estimated                     sector  \\\n",
       "0              1997                   Actual         Social Development   \n",
       "1              1998                   Actual         Social Development   \n",
       "2              1999                   Actual         Social Development   \n",
       "3              2000                   Actual         Social Development   \n",
       "4              2001                   Actual         Social Development   \n",
       "..              ...                      ...                        ...   \n",
       "920            2017                   Actual  Government Administration   \n",
       "921            2018                   Actual  Government Administration   \n",
       "922            2019                   Actual  Government Administration   \n",
       "923            2020                  Revised  Government Administration   \n",
       "924            2021                Estimated  Government Administration   \n",
       "\n",
       "                    ministry       type  amount  percent_of_gdp  \n",
       "0                  Education  Operating    3348           0.022  \n",
       "1                  Education  Operating    3167           0.022  \n",
       "2                  Education  Operating    3257           0.022  \n",
       "3                  Education  Operating    4277           0.025  \n",
       "4                  Education  Operating    4767           0.030  \n",
       "..                       ...        ...     ...             ...  \n",
       "920  Prime Minister's Office  Operating     653           0.001  \n",
       "921  Prime Minister's Office  Operating     670           0.001  \n",
       "922  Prime Minister's Office  Operating     746           0.001  \n",
       "923  Prime Minister's Office  Operating     798           0.002  \n",
       "924  Prime Minister's Office  Operating     973           0.002  \n",
       "\n",
       "[475 rows x 7 columns]"
      ]
     },
     "execution_count": 27,
     "metadata": {},
     "output_type": "execute_result"
    }
   ],
   "source": [
    "df[df['type']=='Operating']"
   ]
  },
  {
   "cell_type": "code",
   "execution_count": 19,
   "id": "b8cb0d13-3001-4f0b-b91d-f984b2ea99b8",
   "metadata": {},
   "outputs": [
    {
     "data": {
      "text/plain": [
       "financial_year                              2021\n",
       "actual_revised_estimated               Estimated\n",
       "sector                        Social Development\n",
       "ministry                    National Development\n",
       "type                                   Operating\n",
       "amount                                      4149\n",
       "percent_of_gdp                             0.008\n",
       "Name: 74, dtype: object"
      ]
     },
     "execution_count": 19,
     "metadata": {},
     "output_type": "execute_result"
    }
   ],
   "source": [
    "df.iloc[74]"
   ]
  },
  {
   "cell_type": "code",
   "execution_count": 18,
   "id": "2cca0038-0177-470e-99b7-573ec3355605",
   "metadata": {},
   "outputs": [
    {
     "data": {
      "text/plain": [
       "financial_year                            2021\n",
       "actual_revised_estimated             Estimated\n",
       "sector                      Social Development\n",
       "ministry                                Health\n",
       "type                                 Operating\n",
       "amount                                   17355\n",
       "percent_of_gdp                           0.034\n",
       "Name: 124, dtype: object"
      ]
     },
     "execution_count": 18,
     "metadata": {},
     "output_type": "execute_result"
    }
   ],
   "source": [
    "df[df['type']=='Operating'].iloc[74]"
   ]
  },
  {
   "cell_type": "markdown",
   "id": "0d4677ac-5281-46ac-969c-9ee1f767577c",
   "metadata": {},
   "source": [
    "### Two ways of selecting a column + filtering"
   ]
  },
  {
   "cell_type": "code",
   "execution_count": 12,
   "id": "4e23a8af-b402-43f7-b031-4582820481ae",
   "metadata": {},
   "outputs": [
    {
     "data": {
      "text/plain": [
       "0      3348\n",
       "1      3167\n",
       "2      3257\n",
       "3      4277\n",
       "4      4767\n",
       "       ... \n",
       "920     653\n",
       "921     670\n",
       "922     746\n",
       "923     798\n",
       "924     973\n",
       "Name: amount, Length: 475, dtype: int64"
      ]
     },
     "execution_count": 12,
     "metadata": {},
     "output_type": "execute_result"
    }
   ],
   "source": [
    "df.loc[df['type']=='Operating','amount']"
   ]
  },
  {
   "cell_type": "code",
   "execution_count": 13,
   "id": "7d87fa24-fa09-49cd-858c-c421e9dc2b8a",
   "metadata": {},
   "outputs": [
    {
     "data": {
      "text/plain": [
       "0      3348\n",
       "1      3167\n",
       "2      3257\n",
       "3      4277\n",
       "4      4767\n",
       "       ... \n",
       "920     653\n",
       "921     670\n",
       "922     746\n",
       "923     798\n",
       "924     973\n",
       "Name: amount, Length: 475, dtype: int64"
      ]
     },
     "execution_count": 13,
     "metadata": {},
     "output_type": "execute_result"
    }
   ],
   "source": [
    "df[df['type']=='Operating']['amount']"
   ]
  },
  {
   "cell_type": "markdown",
   "id": "8dd5f118-e111-4e8d-9203-08e35efe0717",
   "metadata": {},
   "source": [
    "### Filtering with multiple parameters\n",
    "\n",
    "notice how the indexing follows that of original!"
   ]
  },
  {
   "cell_type": "code",
   "execution_count": 14,
   "id": "ca5ffad0-908c-4e08-abb3-ae23c86bf40c",
   "metadata": {},
   "outputs": [
    {
     "data": {
      "text/plain": [
       "600     314\n",
       "601     442\n",
       "602     409\n",
       "603    2390\n",
       "604     406\n",
       "605     385\n",
       "606     292\n",
       "607     289\n",
       "608     277\n",
       "609     285\n",
       "610     321\n",
       "611     367\n",
       "612     371\n",
       "613     456\n",
       "614     464\n",
       "615     502\n",
       "616     555\n",
       "617     598\n",
       "618     783\n",
       "619     953\n",
       "620    1607\n",
       "621    1900\n",
       "622    1945\n",
       "623    2835\n",
       "624    4051\n",
       "Name: amount, dtype: int64"
      ]
     },
     "execution_count": 14,
     "metadata": {},
     "output_type": "execute_result"
    }
   ],
   "source": [
    "df[(df['ministry']=='Transport') & (df['type']=='Operating')]['amount']"
   ]
  },
  {
   "cell_type": "code",
   "execution_count": 16,
   "id": "e393f0c5-dd36-4827-ab23-a30edc002cf5",
   "metadata": {},
   "outputs": [
    {
     "name": "stderr",
     "output_type": "stream",
     "text": [
      "C:\\Users\\uchen_avctbcy\\AppData\\Local\\Temp\\ipykernel_4720\\870235389.py:1: UserWarning: Boolean Series key will be reindexed to match DataFrame index.\n",
      "  df[df['ministry']=='Transport'][df['type']=='Operating']['amount']\n"
     ]
    },
    {
     "data": {
      "text/plain": [
       "600     314\n",
       "601     442\n",
       "602     409\n",
       "603    2390\n",
       "604     406\n",
       "605     385\n",
       "606     292\n",
       "607     289\n",
       "608     277\n",
       "609     285\n",
       "610     321\n",
       "611     367\n",
       "612     371\n",
       "613     456\n",
       "614     464\n",
       "615     502\n",
       "616     555\n",
       "617     598\n",
       "618     783\n",
       "619     953\n",
       "620    1607\n",
       "621    1900\n",
       "622    1945\n",
       "623    2835\n",
       "624    4051\n",
       "Name: amount, dtype: int64"
      ]
     },
     "execution_count": 16,
     "metadata": {},
     "output_type": "execute_result"
    }
   ],
   "source": [
    "df[df['ministry']=='Transport'][df['type']=='Operating']['amount']"
   ]
  },
  {
   "cell_type": "code",
   "execution_count": 22,
   "id": "917cc6e1-f828-41eb-9825-34cfdfb14d69",
   "metadata": {},
   "outputs": [
    {
     "data": {
      "text/plain": [
       "array([ 5479.,  5432.,  5410.,  6654.,  7771.,  7945.,  8615.,  8500.,\n",
       "        8777., 10521., 11474., 13201., 14714., 16460., 18056., 18495.,\n",
       "       20943., 22611., 26259., 28939., 30849., 31399., 32048., 43140.,\n",
       "       44517.])"
      ]
     },
     "execution_count": 22,
     "metadata": {},
     "output_type": "execute_result"
    }
   ],
   "source": [
    "annual"
   ]
  },
  {
   "cell_type": "code",
   "execution_count": null,
   "id": "656841e8-a56f-4a7c-9bf9-a0b38f39ebd0",
   "metadata": {},
   "outputs": [],
   "source": []
  }
 ],
 "metadata": {
  "kernelspec": {
   "display_name": "Python 3 (ipykernel)",
   "language": "python",
   "name": "python3"
  },
  "language_info": {
   "codemirror_mode": {
    "name": "ipython",
    "version": 3
   },
   "file_extension": ".py",
   "mimetype": "text/x-python",
   "name": "python",
   "nbconvert_exporter": "python",
   "pygments_lexer": "ipython3",
   "version": "3.12.0"
  }
 },
 "nbformat": 4,
 "nbformat_minor": 5
}
